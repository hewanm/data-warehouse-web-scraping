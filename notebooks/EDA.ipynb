{
 "cells": [
  {
   "cell_type": "markdown",
   "metadata": {},
   "source": [
    "### Exploratory Data Analysis"
   ]
  },
  {
   "cell_type": "code",
   "execution_count": 1,
   "metadata": {},
   "outputs": [],
   "source": [
    "import pandas as pd"
   ]
  },
  {
   "cell_type": "code",
   "execution_count": 2,
   "metadata": {},
   "outputs": [],
   "source": [
    "data = pd.read_csv('../data/telegram_channel_data.csv')"
   ]
  },
  {
   "cell_type": "code",
   "execution_count": 3,
   "metadata": {},
   "outputs": [
    {
     "data": {
      "text/html": [
       "<div>\n",
       "<style scoped>\n",
       "    .dataframe tbody tr th:only-of-type {\n",
       "        vertical-align: middle;\n",
       "    }\n",
       "\n",
       "    .dataframe tbody tr th {\n",
       "        vertical-align: top;\n",
       "    }\n",
       "\n",
       "    .dataframe thead th {\n",
       "        text-align: right;\n",
       "    }\n",
       "</style>\n",
       "<table border=\"1\" class=\"dataframe\">\n",
       "  <thead>\n",
       "    <tr style=\"text-align: right;\">\n",
       "      <th></th>\n",
       "      <th>Message ID</th>\n",
       "      <th>Date</th>\n",
       "      <th>Sender ID</th>\n",
       "      <th>Message</th>\n",
       "    </tr>\n",
       "  </thead>\n",
       "  <tbody>\n",
       "    <tr>\n",
       "      <th>0</th>\n",
       "      <td>864</td>\n",
       "      <td>2023-12-18 17:04:02+00:00</td>\n",
       "      <td>NaN</td>\n",
       "      <td>https://youtu.be/5DBoEm-8kmA?si=LDLuEecNfULJVD...</td>\n",
       "    </tr>\n",
       "    <tr>\n",
       "      <th>1</th>\n",
       "      <td>863</td>\n",
       "      <td>2023-11-03 16:14:39+00:00</td>\n",
       "      <td>NaN</td>\n",
       "      <td>ዶክተርስ ኢትዮጵያ በ አዲስ አቀራረብ በ ቴሌቪዥን ፕሮግራሙን ለመጀመር ከ...</td>\n",
       "    </tr>\n",
       "    <tr>\n",
       "      <th>2</th>\n",
       "      <td>862</td>\n",
       "      <td>2023-10-02 16:37:39+00:00</td>\n",
       "      <td>NaN</td>\n",
       "      <td>ሞት በስኳር \\n\\nለልጆቻችን የምናሲዘው ምሳቃ ሳናቀው እድሚያቸውን ይቀን...</td>\n",
       "    </tr>\n",
       "    <tr>\n",
       "      <th>3</th>\n",
       "      <td>861</td>\n",
       "      <td>2023-09-16 07:54:32+00:00</td>\n",
       "      <td>NaN</td>\n",
       "      <td>ከ HIV የተፈወሰ ሰው አጋጥሟችሁ ያቃል ? ፈውስ እና ህክምና ?\\n\\nሙ...</td>\n",
       "    </tr>\n",
       "    <tr>\n",
       "      <th>4</th>\n",
       "      <td>860</td>\n",
       "      <td>2023-09-01 16:16:15+00:00</td>\n",
       "      <td>NaN</td>\n",
       "      <td>በቅርብ ጊዜ በሃገራችን ላይ እየተስተዋለ ያለ የተመሳሳይ ፆታ ( Homos...</td>\n",
       "    </tr>\n",
       "  </tbody>\n",
       "</table>\n",
       "</div>"
      ],
      "text/plain": [
       "   Message ID                       Date  Sender ID  \\\n",
       "0         864  2023-12-18 17:04:02+00:00        NaN   \n",
       "1         863  2023-11-03 16:14:39+00:00        NaN   \n",
       "2         862  2023-10-02 16:37:39+00:00        NaN   \n",
       "3         861  2023-09-16 07:54:32+00:00        NaN   \n",
       "4         860  2023-09-01 16:16:15+00:00        NaN   \n",
       "\n",
       "                                             Message  \n",
       "0  https://youtu.be/5DBoEm-8kmA?si=LDLuEecNfULJVD...  \n",
       "1  ዶክተርስ ኢትዮጵያ በ አዲስ አቀራረብ በ ቴሌቪዥን ፕሮግራሙን ለመጀመር ከ...  \n",
       "2  ሞት በስኳር \\n\\nለልጆቻችን የምናሲዘው ምሳቃ ሳናቀው እድሚያቸውን ይቀን...  \n",
       "3  ከ HIV የተፈወሰ ሰው አጋጥሟችሁ ያቃል ? ፈውስ እና ህክምና ?\\n\\nሙ...  \n",
       "4  በቅርብ ጊዜ በሃገራችን ላይ እየተስተዋለ ያለ የተመሳሳይ ፆታ ( Homos...  "
      ]
     },
     "execution_count": 3,
     "metadata": {},
     "output_type": "execute_result"
    }
   ],
   "source": [
    "data.head()"
   ]
  },
  {
   "cell_type": "code",
   "execution_count": 4,
   "metadata": {},
   "outputs": [
    {
     "data": {
      "text/html": [
       "<div>\n",
       "<style scoped>\n",
       "    .dataframe tbody tr th:only-of-type {\n",
       "        vertical-align: middle;\n",
       "    }\n",
       "\n",
       "    .dataframe tbody tr th {\n",
       "        vertical-align: top;\n",
       "    }\n",
       "\n",
       "    .dataframe thead th {\n",
       "        text-align: right;\n",
       "    }\n",
       "</style>\n",
       "<table border=\"1\" class=\"dataframe\">\n",
       "  <thead>\n",
       "    <tr style=\"text-align: right;\">\n",
       "      <th></th>\n",
       "      <th>Message ID</th>\n",
       "      <th>Date</th>\n",
       "      <th>Sender ID</th>\n",
       "      <th>Message</th>\n",
       "    </tr>\n",
       "  </thead>\n",
       "  <tbody>\n",
       "    <tr>\n",
       "      <th>95</th>\n",
       "      <td>754</td>\n",
       "      <td>2022-02-11 17:23:23+00:00</td>\n",
       "      <td>NaN</td>\n",
       "      <td>NaN</td>\n",
       "    </tr>\n",
       "    <tr>\n",
       "      <th>96</th>\n",
       "      <td>753</td>\n",
       "      <td>2022-02-11 17:23:23+00:00</td>\n",
       "      <td>NaN</td>\n",
       "      <td>ዛሬ አርብ ምሽት 3:30 በ ፋና ቴሌቪዥን \\n\\nየወንድ ልጅ ጡት እንደሴ...</td>\n",
       "    </tr>\n",
       "    <tr>\n",
       "      <th>97</th>\n",
       "      <td>752</td>\n",
       "      <td>2022-02-08 18:21:30+00:00</td>\n",
       "      <td>NaN</td>\n",
       "      <td>NaN</td>\n",
       "    </tr>\n",
       "    <tr>\n",
       "      <th>98</th>\n",
       "      <td>751</td>\n",
       "      <td>2022-02-08 18:20:57+00:00</td>\n",
       "      <td>NaN</td>\n",
       "      <td>የእርዳታ ጥሪ \\n\\nታዳጊ ኤልሮኢ አብርሃም ሁሉቱም ኩላሊቶቹ መስራት አቁ...</td>\n",
       "    </tr>\n",
       "    <tr>\n",
       "      <th>99</th>\n",
       "      <td>750</td>\n",
       "      <td>2022-02-05 04:59:06+00:00</td>\n",
       "      <td>NaN</td>\n",
       "      <td>የካንሰር ተጋላጭነትን ለመቀነስ ከላይ በምስሉ ላይ ያለውን ይተግብሩ::\\n...</td>\n",
       "    </tr>\n",
       "  </tbody>\n",
       "</table>\n",
       "</div>"
      ],
      "text/plain": [
       "    Message ID                       Date  Sender ID  \\\n",
       "95         754  2022-02-11 17:23:23+00:00        NaN   \n",
       "96         753  2022-02-11 17:23:23+00:00        NaN   \n",
       "97         752  2022-02-08 18:21:30+00:00        NaN   \n",
       "98         751  2022-02-08 18:20:57+00:00        NaN   \n",
       "99         750  2022-02-05 04:59:06+00:00        NaN   \n",
       "\n",
       "                                              Message  \n",
       "95                                                NaN  \n",
       "96  ዛሬ አርብ ምሽት 3:30 በ ፋና ቴሌቪዥን \\n\\nየወንድ ልጅ ጡት እንደሴ...  \n",
       "97                                                NaN  \n",
       "98  የእርዳታ ጥሪ \\n\\nታዳጊ ኤልሮኢ አብርሃም ሁሉቱም ኩላሊቶቹ መስራት አቁ...  \n",
       "99  የካንሰር ተጋላጭነትን ለመቀነስ ከላይ በምስሉ ላይ ያለውን ይተግብሩ::\\n...  "
      ]
     },
     "execution_count": 4,
     "metadata": {},
     "output_type": "execute_result"
    }
   ],
   "source": [
    "data.tail()"
   ]
  },
  {
   "cell_type": "code",
   "execution_count": null,
   "metadata": {},
   "outputs": [],
   "source": []
  }
 ],
 "metadata": {
  "kernelspec": {
   "display_name": "base",
   "language": "python",
   "name": "python3"
  },
  "language_info": {
   "codemirror_mode": {
    "name": "ipython",
    "version": 3
   },
   "file_extension": ".py",
   "mimetype": "text/x-python",
   "name": "python",
   "nbconvert_exporter": "python",
   "pygments_lexer": "ipython3",
   "version": "3.11.7"
  }
 },
 "nbformat": 4,
 "nbformat_minor": 2
}
